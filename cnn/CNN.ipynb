{
  "nbformat": 4,
  "nbformat_minor": 0,
  "metadata": {
    "colab": {
      "provenance": [],
      "gpuType": "T4"
    },
    "kernelspec": {
      "name": "python3",
      "display_name": "Python 3"
    },
    "language_info": {
      "name": "python"
    },
    "accelerator": "GPU"
  },
  "cells": [
    {
      "cell_type": "markdown",
      "source": [
        "# Dependências"
      ],
      "metadata": {
        "id": "P9po0JOGvGiR"
      }
    },
    {
      "cell_type": "code",
      "execution_count": 2,
      "metadata": {
        "colab": {
          "base_uri": "https://localhost:8080/"
        },
        "id": "ylrHPWTrug3a",
        "outputId": "64a10e44-703c-49e9-d82b-6fa776a8ab2e"
      },
      "outputs": [
        {
          "output_type": "stream",
          "name": "stdout",
          "text": [
            "Fri Dec 22 21:07:36 2023       \n",
            "+---------------------------------------------------------------------------------------+\n",
            "| NVIDIA-SMI 535.104.05             Driver Version: 535.104.05   CUDA Version: 12.2     |\n",
            "|-----------------------------------------+----------------------+----------------------+\n",
            "| GPU  Name                 Persistence-M | Bus-Id        Disp.A | Volatile Uncorr. ECC |\n",
            "| Fan  Temp   Perf          Pwr:Usage/Cap |         Memory-Usage | GPU-Util  Compute M. |\n",
            "|                                         |                      |               MIG M. |\n",
            "|=========================================+======================+======================|\n",
            "|   0  Tesla T4                       Off | 00000000:00:04.0 Off |                    0 |\n",
            "| N/A   56C    P8              10W /  70W |      0MiB / 15360MiB |      0%      Default |\n",
            "|                                         |                      |                  N/A |\n",
            "+-----------------------------------------+----------------------+----------------------+\n",
            "                                                                                         \n",
            "+---------------------------------------------------------------------------------------+\n",
            "| Processes:                                                                            |\n",
            "|  GPU   GI   CI        PID   Type   Process name                            GPU Memory |\n",
            "|        ID   ID                                                             Usage      |\n",
            "|=======================================================================================|\n",
            "|  No running processes found                                                           |\n",
            "+---------------------------------------------------------------------------------------+\n"
          ]
        }
      ],
      "source": [
        "!nvidia-smi"
      ]
    },
    {
      "cell_type": "code",
      "source": [
        "!pip3 install torch torchvision torchaudio torchviz"
      ],
      "metadata": {
        "colab": {
          "base_uri": "https://localhost:8080/"
        },
        "id": "6iNgR6Btu7eE",
        "outputId": "b7864a7e-bcaf-4b12-8ff2-b6020b23d44d"
      },
      "execution_count": 1,
      "outputs": [
        {
          "output_type": "stream",
          "name": "stdout",
          "text": [
            "Requirement already satisfied: torch in /usr/local/lib/python3.10/dist-packages (2.1.0+cu121)\n",
            "Requirement already satisfied: torchvision in /usr/local/lib/python3.10/dist-packages (0.16.0+cu121)\n",
            "Requirement already satisfied: torchaudio in /usr/local/lib/python3.10/dist-packages (2.1.0+cu121)\n",
            "Requirement already satisfied: torchviz in /usr/local/lib/python3.10/dist-packages (0.0.2)\n",
            "Requirement already satisfied: filelock in /usr/local/lib/python3.10/dist-packages (from torch) (3.13.1)\n",
            "Requirement already satisfied: typing-extensions in /usr/local/lib/python3.10/dist-packages (from torch) (4.5.0)\n",
            "Requirement already satisfied: sympy in /usr/local/lib/python3.10/dist-packages (from torch) (1.12)\n",
            "Requirement already satisfied: networkx in /usr/local/lib/python3.10/dist-packages (from torch) (3.2.1)\n",
            "Requirement already satisfied: jinja2 in /usr/local/lib/python3.10/dist-packages (from torch) (3.1.2)\n",
            "Requirement already satisfied: fsspec in /usr/local/lib/python3.10/dist-packages (from torch) (2023.6.0)\n",
            "Requirement already satisfied: triton==2.1.0 in /usr/local/lib/python3.10/dist-packages (from torch) (2.1.0)\n",
            "Requirement already satisfied: numpy in /usr/local/lib/python3.10/dist-packages (from torchvision) (1.23.5)\n",
            "Requirement already satisfied: requests in /usr/local/lib/python3.10/dist-packages (from torchvision) (2.31.0)\n",
            "Requirement already satisfied: pillow!=8.3.*,>=5.3.0 in /usr/local/lib/python3.10/dist-packages (from torchvision) (9.4.0)\n",
            "Requirement already satisfied: graphviz in /usr/local/lib/python3.10/dist-packages (from torchviz) (0.20.1)\n",
            "Requirement already satisfied: MarkupSafe>=2.0 in /usr/local/lib/python3.10/dist-packages (from jinja2->torch) (2.1.3)\n",
            "Requirement already satisfied: charset-normalizer<4,>=2 in /usr/local/lib/python3.10/dist-packages (from requests->torchvision) (3.3.2)\n",
            "Requirement already satisfied: idna<4,>=2.5 in /usr/local/lib/python3.10/dist-packages (from requests->torchvision) (3.6)\n",
            "Requirement already satisfied: urllib3<3,>=1.21.1 in /usr/local/lib/python3.10/dist-packages (from requests->torchvision) (2.0.7)\n",
            "Requirement already satisfied: certifi>=2017.4.17 in /usr/local/lib/python3.10/dist-packages (from requests->torchvision) (2023.11.17)\n",
            "Requirement already satisfied: mpmath>=0.19 in /usr/local/lib/python3.10/dist-packages (from sympy->torch) (1.3.0)\n"
          ]
        }
      ]
    },
    {
      "cell_type": "code",
      "source": [
        "import torch\n",
        "import torchvision\n",
        "import torchvision.transforms as transforms\n",
        "import torch.nn as nn\n",
        "import torch.nn.functional as F\n",
        "import torch.optim as optim\n",
        "\n",
        "from torchviz import make_dot\n",
        "\n",
        "from IPython.display import Image\n",
        "\n",
        "import numpy as np\n",
        "import pandas as pd\n",
        "\n",
        "import matplotlib.pyplot as plt\n",
        "%matplotlib inline"
      ],
      "metadata": {
        "id": "SLX3dXCmvFRO"
      },
      "execution_count": 2,
      "outputs": []
    },
    {
      "cell_type": "markdown",
      "source": [
        "# Dados"
      ],
      "metadata": {
        "id": "GHwS5bvkwXAo"
      }
    },
    {
      "cell_type": "code",
      "source": [
        "transform = transforms.Compose(\n",
        "    [transforms.ToTensor(),\n",
        "     transforms.Normalize((0.5, 0.5, 0.5), (0.5, 0.5, 0.5))])\n",
        "\n",
        "batch_size = 4\n",
        "\n",
        "trainset = torchvision.datasets.CIFAR10(root='./data', train=True,\n",
        "                                        download=True, transform=transform)\n",
        "trainloader = torch.utils.data.DataLoader(trainset, batch_size=batch_size,\n",
        "                                          shuffle=True, num_workers=2)\n",
        "\n",
        "testset = torchvision.datasets.CIFAR10(root='./data', train=False,\n",
        "                                       download=True, transform=transform)\n",
        "testloader = torch.utils.data.DataLoader(testset, batch_size=batch_size,\n",
        "                                         shuffle=False, num_workers=2)\n",
        "\n",
        "classes = ('plane', 'car', 'bird', 'cat',\n",
        "           'deer', 'dog', 'frog', 'horse', 'ship', 'truck')"
      ],
      "metadata": {
        "colab": {
          "base_uri": "https://localhost:8080/"
        },
        "id": "kaH6sACXvcxc",
        "outputId": "072bb2b3-9cde-4df4-f48f-150c747bdb6d"
      },
      "execution_count": 14,
      "outputs": [
        {
          "output_type": "stream",
          "name": "stdout",
          "text": [
            "Files already downloaded and verified\n",
            "Files already downloaded and verified\n"
          ]
        }
      ]
    },
    {
      "cell_type": "code",
      "source": [
        "def imshow(img):\n",
        "  img = img / 2 + 0.5     # unnormalize\n",
        "  npimg = img.numpy()\n",
        "  plt.imshow(np.transpose(npimg, (1, 2, 0)))\n",
        "  plt.show()"
      ],
      "metadata": {
        "id": "GrP_jnSDHagh"
      },
      "execution_count": 4,
      "outputs": []
    },
    {
      "cell_type": "code",
      "source": [
        "device = torch.device(\"cuda\" if torch.cuda.is_available() else \"cpu\")"
      ],
      "metadata": {
        "id": "9CY1x5IVwtEj"
      },
      "execution_count": 8,
      "outputs": []
    },
    {
      "cell_type": "markdown",
      "source": [
        "# CNN\n",
        "CONV -> CONV->   POOL -> CONV -> POOL - > FC"
      ],
      "metadata": {
        "id": "zo326AUqwajg"
      }
    },
    {
      "cell_type": "markdown",
      "source": [
        "## Arquitetura"
      ],
      "metadata": {
        "id": "I5BWr89zINJZ"
      }
    },
    {
      "cell_type": "code",
      "source": [
        "class Net(nn.Module):\n",
        "  def __init__(self):\n",
        "    super().__init__()\n",
        "    # in_channel: 3, out_channel: 6, kernel_size: 5, stride: 1\n",
        "    self.conv1 = nn.Conv2d(3, 6, 5)\n",
        "    # 32x32x3 -> 28x28x6\n",
        "\n",
        "    # in_channel: 6, out_channel 16, kernel_size: 5, stride: 1\n",
        "    self.conv2 = nn.Conv2d(6, 16, 5)\n",
        "    # 28x28x6 -> 24x24x16\n",
        "\n",
        "    # kernel_size: 2, stride: kernel_size\n",
        "    self.pool1 = nn.MaxPool2d(2)\n",
        "    # 24x24x16 -> 12x12x16\n",
        "\n",
        "    # in_channel: 16, out_channel: 24, kernel_size: 5, stride: 1\n",
        "    self.conv3 = nn.Conv2d(16, 24, 5)\n",
        "    # 12x12x16 -> 8x8x24\n",
        "\n",
        "    # kernel_size: 2, stride: kernel_size\n",
        "    self.pool2 = nn.MaxPool2d(2)\n",
        "    # 8x8x24 -> 4x4x24\n",
        "\n",
        "    self.fc = nn.Linear(4 * 4 * 24, 10)\n",
        "\n",
        "  def forward(self, x):\n",
        "    x = F.relu(self.conv1(x))\n",
        "    x = F.relu(self.conv2(x))\n",
        "    x = self.pool1(x)\n",
        "    x = F.relu(self.conv3(x))\n",
        "    x = self.pool2(x)\n",
        "\n",
        "    x = torch.flatten(x, 1) # flatten all dimensions except batch\n",
        "\n",
        "    x = self.fc(x)\n",
        "    return x\n",
        "\n",
        "net = Net().to(device)"
      ],
      "metadata": {
        "id": "99Oktod5weXJ"
      },
      "execution_count": 91,
      "outputs": []
    },
    {
      "cell_type": "code",
      "source": [
        "net"
      ],
      "metadata": {
        "colab": {
          "base_uri": "https://localhost:8080/"
        },
        "id": "kjznc2nO0a1p",
        "outputId": "b8a85cf4-aec0-4384-8b35-edcbc990aa2a"
      },
      "execution_count": 92,
      "outputs": [
        {
          "output_type": "execute_result",
          "data": {
            "text/plain": [
              "Net(\n",
              "  (conv1): Conv2d(3, 6, kernel_size=(5, 5), stride=(1, 1))\n",
              "  (conv2): Conv2d(6, 16, kernel_size=(5, 5), stride=(1, 1))\n",
              "  (pool1): MaxPool2d(kernel_size=2, stride=2, padding=0, dilation=1, ceil_mode=False)\n",
              "  (conv3): Conv2d(16, 24, kernel_size=(5, 5), stride=(1, 1))\n",
              "  (pool2): MaxPool2d(kernel_size=2, stride=2, padding=0, dilation=1, ceil_mode=False)\n",
              "  (fc): Linear(in_features=384, out_features=10, bias=True)\n",
              ")"
            ]
          },
          "metadata": {},
          "execution_count": 92
        }
      ]
    },
    {
      "cell_type": "code",
      "source": [
        "inputs, labels = next(iter(trainloader))\n",
        "inputs = inputs.to(device)\n",
        "yhat = net(inputs)\n",
        "\n",
        "make_dot(yhat, params=dict(list(net.named_parameters()))).render(\"cnn_torchviz\", format=\"png\")\n",
        "\n",
        "Image(open(\"cnn_torchviz.png\",\"rb\").read())"
      ],
      "metadata": {
        "colab": {
          "base_uri": "https://localhost:8080/",
          "height": 1000
        },
        "id": "p1Lu21nW0hMu",
        "outputId": "e3376fc3-d902-4c87-fbb3-fcd9a276b021"
      },
      "execution_count": 93,
      "outputs": [
        {
          "output_type": "execute_result",
          "data": {
            "image/png": "[encoded data removed]",
            "text/plain": [
              "<IPython.core.display.Image object>"
            ]
          },
          "metadata": {},
          "execution_count": 93
        }
      ]
    },
    {
      "cell_type": "markdown",
      "source": [
        "## Treino e Teste"
      ],
      "metadata": {
        "id": "MiSYnpYjISIj"
      }
    },
    {
      "cell_type": "code",
      "source": [
        "criterion = nn.CrossEntropyLoss().to(device)\n",
        "optimizer = optim.SGD(net.parameters(), lr=0.001, momentum=0.9)"
      ],
      "metadata": {
        "id": "98qR4EDE4AMe"
      },
      "execution_count": 94,
      "outputs": []
    },
    {
      "cell_type": "code",
      "source": [
        "EPOCHS = 20\n",
        "\n",
        "epoch_losses = []\n",
        "\n",
        "for epoch in range(EPOCHS):  # loop over the dataset multiple times\n",
        "\n",
        "  running_loss = 0.0\n",
        "  epoch_loss = 0.0\n",
        "\n",
        "  for i, data in enumerate(trainloader, 0):\n",
        "    # get the inputs; data is a list of [inputs, labels]\n",
        "    inputs, labels = data\n",
        "    inputs = inputs.to(device)\n",
        "    labels = labels.to(device)\n",
        "\n",
        "    # zero the parameter gradients\n",
        "    optimizer.zero_grad()\n",
        "\n",
        "    # forward + backward + optimize\n",
        "    outputs = net(inputs)\n",
        "    loss = criterion(outputs, labels)\n",
        "    loss.backward()\n",
        "    optimizer.step()\n",
        "\n",
        "    # print statistics\n",
        "    running_loss += loss.item()\n",
        "    epoch_loss += outputs.shape[0] * loss.item()\n",
        "    if i % 2000 == 1999:    # print every 2000 mini-batches\n",
        "      print(f'[{epoch + 1}, {i + 1:5d}] loss: {running_loss / 2000:.3f}')\n",
        "      running_loss = 0.0\n",
        "\n",
        "  epoch_loss_mean = epoch_loss / len(trainset)\n",
        "  print(f\"[epoch {epoch + 1}] loss: {epoch_loss_mean:.3f}\")\n",
        "  epoch_losses.append(epoch_loss_mean)\n",
        "\n",
        "print('Finished Training')"
      ],
      "metadata": {
        "colab": {
          "base_uri": "https://localhost:8080/"
        },
        "id": "8inWIxLO4XhH",
        "outputId": "835750ba-b66e-433a-cfe3-0406e04b7ce5"
      },
      "execution_count": 95,
      "outputs": [
        {
          "output_type": "stream",
          "name": "stdout",
          "text": [
            "[1,  2000] loss: 2.067\n",
            "[1,  4000] loss: 1.728\n",
            "[1,  6000] loss: 1.588\n",
            "[1,  8000] loss: 1.492\n",
            "[1, 10000] loss: 1.455\n",
            "[1, 12000] loss: 1.415\n",
            "[epoch 1] loss: 1.615\n",
            "[2,  2000] loss: 1.338\n",
            "[2,  4000] loss: 1.325\n",
            "[2,  6000] loss: 1.302\n",
            "[2,  8000] loss: 1.278\n",
            "[2, 10000] loss: 1.272\n",
            "[2, 12000] loss: 1.247\n",
            "[epoch 2] loss: 1.291\n",
            "[3,  2000] loss: 1.173\n",
            "[3,  4000] loss: 1.171\n",
            "[3,  6000] loss: 1.178\n",
            "[3,  8000] loss: 1.145\n",
            "[3, 10000] loss: 1.156\n",
            "[3, 12000] loss: 1.160\n",
            "[epoch 3] loss: 1.166\n",
            "[4,  2000] loss: 1.101\n",
            "[4,  4000] loss: 1.114\n",
            "[4,  6000] loss: 1.108\n",
            "[4,  8000] loss: 1.069\n",
            "[4, 10000] loss: 1.106\n",
            "[4, 12000] loss: 1.108\n",
            "[epoch 4] loss: 1.102\n",
            "[5,  2000] loss: 1.034\n",
            "[5,  4000] loss: 1.037\n",
            "[5,  6000] loss: 1.049\n",
            "[5,  8000] loss: 1.082\n",
            "[5, 10000] loss: 1.084\n",
            "[5, 12000] loss: 1.048\n",
            "[epoch 5] loss: 1.057\n",
            "[6,  2000] loss: 1.025\n",
            "[6,  4000] loss: 1.034\n",
            "[6,  6000] loss: 1.025\n",
            "[6,  8000] loss: 1.023\n",
            "[6, 10000] loss: 1.022\n",
            "[6, 12000] loss: 1.046\n",
            "[epoch 6] loss: 1.030\n",
            "[7,  2000] loss: 0.980\n",
            "[7,  4000] loss: 1.014\n",
            "[7,  6000] loss: 1.008\n",
            "[7,  8000] loss: 1.018\n",
            "[7, 10000] loss: 1.015\n",
            "[7, 12000] loss: 1.014\n",
            "[epoch 7] loss: 1.010\n",
            "[8,  2000] loss: 0.955\n",
            "[8,  4000] loss: 0.948\n",
            "[8,  6000] loss: 1.001\n",
            "[8,  8000] loss: 1.003\n",
            "[8, 10000] loss: 0.999\n",
            "[8, 12000] loss: 1.015\n",
            "[epoch 8] loss: 0.987\n",
            "[9,  2000] loss: 0.939\n",
            "[9,  4000] loss: 0.977\n",
            "[9,  6000] loss: 0.946\n",
            "[9,  8000] loss: 0.970\n",
            "[9, 10000] loss: 0.992\n",
            "[9, 12000] loss: 1.004\n",
            "[epoch 9] loss: 0.972\n",
            "[10,  2000] loss: 0.894\n",
            "[10,  4000] loss: 0.935\n",
            "[10,  6000] loss: 0.966\n",
            "[10,  8000] loss: 0.997\n",
            "[10, 10000] loss: 0.971\n",
            "[10, 12000] loss: 0.986\n",
            "[epoch 10] loss: 0.960\n",
            "[11,  2000] loss: 0.885\n",
            "[11,  4000] loss: 0.936\n",
            "[11,  6000] loss: 0.957\n",
            "[11,  8000] loss: 0.965\n",
            "[11, 10000] loss: 0.976\n",
            "[11, 12000] loss: 0.981\n",
            "[epoch 11] loss: 0.950\n",
            "[12,  2000] loss: 0.893\n",
            "[12,  4000] loss: 0.927\n",
            "[12,  6000] loss: 0.927\n",
            "[12,  8000] loss: 0.948\n",
            "[12, 10000] loss: 0.970\n",
            "[12, 12000] loss: 0.977\n",
            "[epoch 12] loss: 0.942\n",
            "[13,  2000] loss: 0.894\n",
            "[13,  4000] loss: 0.932\n",
            "[13,  6000] loss: 0.914\n",
            "[13,  8000] loss: 0.942\n",
            "[13, 10000] loss: 0.948\n",
            "[13, 12000] loss: 0.954\n",
            "[epoch 13] loss: 0.932\n",
            "[14,  2000] loss: 0.892\n",
            "[14,  4000] loss: 0.911\n",
            "[14,  6000] loss: 0.935\n",
            "[14,  8000] loss: 0.946\n",
            "[14, 10000] loss: 0.937\n",
            "[14, 12000] loss: 0.971\n",
            "[epoch 14] loss: 0.933\n",
            "[15,  2000] loss: 0.900\n",
            "[15,  4000] loss: 0.900\n",
            "[15,  6000] loss: 0.924\n",
            "[15,  8000] loss: 0.958\n",
            "[15, 10000] loss: 0.912\n",
            "[15, 12000] loss: 0.955\n",
            "[epoch 15] loss: 0.926\n",
            "[16,  2000] loss: 0.893\n",
            "[16,  4000] loss: 0.907\n",
            "[16,  6000] loss: 0.905\n",
            "[16,  8000] loss: 0.921\n",
            "[16, 10000] loss: 0.937\n",
            "[16, 12000] loss: 0.941\n",
            "[epoch 16] loss: 0.919\n",
            "[17,  2000] loss: 0.869\n",
            "[17,  4000] loss: 0.905\n",
            "[17,  6000] loss: 0.914\n",
            "[17,  8000] loss: 0.940\n",
            "[17, 10000] loss: 0.941\n",
            "[17, 12000] loss: 0.936\n",
            "[epoch 17] loss: 0.920\n",
            "[18,  2000] loss: 0.883\n",
            "[18,  4000] loss: 0.916\n",
            "[18,  6000] loss: 0.903\n",
            "[18,  8000] loss: 0.908\n",
            "[18, 10000] loss: 0.948\n",
            "[18, 12000] loss: 0.916\n",
            "[epoch 18] loss: 0.913\n",
            "[19,  2000] loss: 0.881\n",
            "[19,  4000] loss: 0.874\n",
            "[19,  6000] loss: 0.925\n",
            "[19,  8000] loss: 0.938\n",
            "[19, 10000] loss: 0.925\n",
            "[19, 12000] loss: 0.926\n",
            "[epoch 19] loss: 0.913\n",
            "[20,  2000] loss: 0.852\n",
            "[20,  4000] loss: 0.896\n",
            "[20,  6000] loss: 0.899\n",
            "[20,  8000] loss: 0.927\n",
            "[20, 10000] loss: 0.939\n",
            "[20, 12000] loss: 0.920\n",
            "[epoch 20] loss: 0.906\n",
            "Finished Training\n"
          ]
        }
      ]
    },
    {
      "cell_type": "code",
      "source": [
        "plt.plot(range(EPOCHS), epoch_losses, marker=\"o\")\n",
        "plt.xlabel(\"Epoch\")\n",
        "plt.ylabel(\"Average Loss\")\n",
        "plt.xticks(range(1, EPOCHS+1, 2))"
      ],
      "metadata": {
        "colab": {
          "base_uri": "https://localhost:8080/",
          "height": 818
        },
        "id": "hhmUaya06BdY",
        "outputId": "4bad3975-7343-4e10-9955-e6dc6e34bcc3"
      },
      "execution_count": 98,
      "outputs": [
        {
          "output_type": "execute_result",
          "data": {
            "text/plain": [
              "([<matplotlib.axis.XTick at 0x7f402286ae60>,\n",
              "  <matplotlib.axis.XTick at 0x7f40228688e0>,\n",
              "  <matplotlib.axis.XTick at 0x7f40235c7820>,\n",
              "  <matplotlib.axis.XTick at 0x7f4019b8c970>,\n",
              "  <matplotlib.axis.XTick at 0x7f4024f76b60>,\n",
              "  <matplotlib.axis.XTick at 0x7f4019b8d1e0>,\n",
              "  <matplotlib.axis.XTick at 0x7f4019b8dc90>,\n",
              "  <matplotlib.axis.XTick at 0x7f4019b8e740>,\n",
              "  <matplotlib.axis.XTick at 0x7f4019b8f1f0>,\n",
              "  <matplotlib.axis.XTick at 0x7f4019b8e1d0>],\n",
              " [Text(1, 0, '1'),\n",
              "  Text(3, 0, '3'),\n",
              "  Text(5, 0, '5'),\n",
              "  Text(7, 0, '7'),\n",
              "  Text(9, 0, '9'),\n",
              "  Text(11, 0, '11'),\n",
              "  Text(13, 0, '13'),\n",
              "  Text(15, 0, '15'),\n",
              "  Text(17, 0, '17'),\n",
              "  Text(19, 0, '19')])"
            ]
          },
          "metadata": {},
          "execution_count": 98
        },
        {
          "output_type": "display_data",
          "data": {
            "text/plain": [
              "<Figure size 640x480 with 1 Axes>"
            ],
            "image/png": "[encoded data removed]"
          },
          "metadata": {}
        }
      ]
    },
    {
      "cell_type": "code",
      "source": [
        "cnn_statistics = pd.DataFrame({\"epoch\": range(EPOCHS), \"average_loss\": epoch_losses})\n",
        "cnn_statistics.to_csv(\"cnn_stats.csv\", index=False)\n",
        "cnn_statistics"
      ],
      "metadata": {
        "colab": {
          "base_uri": "https://localhost:8080/",
          "height": 676
        },
        "id": "noCBsRBYF3Xp",
        "outputId": "90921821-ab89-4d1d-9fa7-04a17eaf9476"
      },
      "execution_count": 120,
      "outputs": [
        {
          "output_type": "execute_result",
          "data": {
            "text/plain": [
              "    epoch  average_loss\n",
              "0       0      1.615001\n",
              "1       1      1.290811\n",
              "2       2      1.166095\n",
              "3       3      1.101656\n",
              "4       4      1.056550\n",
              "5       5      1.029538\n",
              "6       6      1.009663\n",
              "7       7      0.987224\n",
              "8       8      0.971674\n",
              "9       9      0.959623\n",
              "10     10      0.949733\n",
              "11     11      0.942361\n",
              "12     12      0.932327\n",
              "13     13      0.933093\n",
              "14     14      0.926375\n",
              "15     15      0.919221\n",
              "16     16      0.920010\n",
              "17     17      0.912731\n",
              "18     18      0.913157\n",
              "19     19      0.906284"
            ],
            "text/html": [
              "\n",
              "  <div id=\"df-c67f5c3a-465d-496b-a344-abf1e9f3b91d\" class=\"colab-df-container\">\n",
              "    <div>\n",
              "<style scoped>\n",
              "    .dataframe tbody tr th:only-of-type {\n",
              "        vertical-align: middle;\n",
              "    }\n",
              "\n",
              "    .dataframe tbody tr th {\n",
              "        vertical-align: top;\n",
              "    }\n",
              "\n",
              "    .dataframe thead th {\n",
              "        text-align: right;\n",
              "    }\n",
              "</style>\n",
              "<table border=\"1\" class=\"dataframe\">\n",
              "  <thead>\n",
              "    <tr style=\"text-align: right;\">\n",
              "      <th></th>\n",
              "      <th>epoch</th>\n",
              "      <th>average_loss</th>\n",
              "    </tr>\n",
              "  </thead>\n",
              "  <tbody>\n",
              "    <tr>\n",
              "      <th>0</th>\n",
              "      <td>0</td>\n",
              "      <td>1.615001</td>\n",
              "    </tr>\n",
              "    <tr>\n",
              "      <th>1</th>\n",
              "      <td>1</td>\n",
              "      <td>1.290811</td>\n",
              "    </tr>\n",
              "    <tr>\n",
              "      <th>2</th>\n",
              "      <td>2</td>\n",
              "      <td>1.166095</td>\n",
              "    </tr>\n",
              "    <tr>\n",
              "      <th>3</th>\n",
              "      <td>3</td>\n",
              "      <td>1.101656</td>\n",
              "    </tr>\n",
              "    <tr>\n",
              "      <th>4</th>\n",
              "      <td>4</td>\n",
              "      <td>1.056550</td>\n",
              "    </tr>\n",
              "    <tr>\n",
              "      <th>5</th>\n",
              "      <td>5</td>\n",
              "      <td>1.029538</td>\n",
              "    </tr>\n",
              "    <tr>\n",
              "      <th>6</th>\n",
              "      <td>6</td>\n",
              "      <td>1.009663</td>\n",
              "    </tr>\n",
              "    <tr>\n",
              "      <th>7</th>\n",
              "      <td>7</td>\n",
              "      <td>0.987224</td>\n",
              "    </tr>\n",
              "    <tr>\n",
              "      <th>8</th>\n",
              "      <td>8</td>\n",
              "      <td>0.971674</td>\n",
              "    </tr>\n",
              "    <tr>\n",
              "      <th>9</th>\n",
              "      <td>9</td>\n",
              "      <td>0.959623</td>\n",
              "    </tr>\n",
              "    <tr>\n",
              "      <th>10</th>\n",
              "      <td>10</td>\n",
              "      <td>0.949733</td>\n",
              "    </tr>\n",
              "    <tr>\n",
              "      <th>11</th>\n",
              "      <td>11</td>\n",
              "      <td>0.942361</td>\n",
              "    </tr>\n",
              "    <tr>\n",
              "      <th>12</th>\n",
              "      <td>12</td>\n",
              "      <td>0.932327</td>\n",
              "    </tr>\n",
              "    <tr>\n",
              "      <th>13</th>\n",
              "      <td>13</td>\n",
              "      <td>0.933093</td>\n",
              "    </tr>\n",
              "    <tr>\n",
              "      <th>14</th>\n",
              "      <td>14</td>\n",
              "      <td>0.926375</td>\n",
              "    </tr>\n",
              "    <tr>\n",
              "      <th>15</th>\n",
              "      <td>15</td>\n",
              "      <td>0.919221</td>\n",
              "    </tr>\n",
              "    <tr>\n",
              "      <th>16</th>\n",
              "      <td>16</td>\n",
              "      <td>0.920010</td>\n",
              "    </tr>\n",
              "    <tr>\n",
              "      <th>17</th>\n",
              "      <td>17</td>\n",
              "      <td>0.912731</td>\n",
              "    </tr>\n",
              "    <tr>\n",
              "      <th>18</th>\n",
              "      <td>18</td>\n",
              "      <td>0.913157</td>\n",
              "    </tr>\n",
              "    <tr>\n",
              "      <th>19</th>\n",
              "      <td>19</td>\n",
              "      <td>0.906284</td>\n",
              "    </tr>\n",
              "  </tbody>\n",
              "</table>\n",
              "</div>\n",
              "    <div class=\"colab-df-buttons\">\n",
              "\n",
              "  <div class=\"colab-df-container\">\n",
              "    <button class=\"colab-df-convert\" onclick=\"convertToInteractive('df-c67f5c3a-465d-496b-a344-abf1e9f3b91d')\"\n",
              "            title=\"Convert this dataframe to an interactive table.\"\n",
              "            style=\"display:none;\">\n",
              "\n",
              "  <svg xmlns=\"http://www.w3.org/2000/svg\" height=\"24px\" viewBox=\"0 -960 960 960\">\n",
              "    <path d=\"M120-120v-720h720v720H120Zm60-500h600v-160H180v160Zm220 220h160v-160H400v160Zm0 220h160v-160H400v160ZM180-400h160v-160H180v160Zm440 0h160v-160H620v160ZM180-180h160v-160H180v160Zm440 0h160v-160H620v160Z\"/>\n",
              "  </svg>\n",
              "    </button>\n",
              "\n",
              "  <style>\n",
              "    .colab-df-container {\n",
              "      display:flex;\n",
              "      gap: 12px;\n",
              "    }\n",
              "\n",
              "    .colab-df-convert {\n",
              "      background-color: #E8F0FE;\n",
              "      border: none;\n",
              "      border-radius: 50%;\n",
              "      cursor: pointer;\n",
              "      display: none;\n",
              "      fill: #1967D2;\n",
              "      height: 32px;\n",
              "      padding: 0 0 0 0;\n",
              "      width: 32px;\n",
              "    }\n",
              "\n",
              "    .colab-df-convert:hover {\n",
              "      background-color: #E2EBFA;\n",
              "      box-shadow: 0px 1px 2px rgba(60, 64, 67, 0.3), 0px 1px 3px 1px rgba(60, 64, 67, 0.15);\n",
              "      fill: #174EA6;\n",
              "    }\n",
              "\n",
              "    .colab-df-buttons div {\n",
              "      margin-bottom: 4px;\n",
              "    }\n",
              "\n",
              "    [theme=dark] .colab-df-convert {\n",
              "      background-color: #3B4455;\n",
              "      fill: #D2E3FC;\n",
              "    }\n",
              "\n",
              "    [theme=dark] .colab-df-convert:hover {\n",
              "      background-color: #434B5C;\n",
              "      box-shadow: 0px 1px 3px 1px rgba(0, 0, 0, 0.15);\n",
              "      filter: drop-shadow(0px 1px 2px rgba(0, 0, 0, 0.3));\n",
              "      fill: #FFFFFF;\n",
              "    }\n",
              "  </style>\n",
              "\n",
              "    <script>\n",
              "      const buttonEl =\n",
              "        document.querySelector('#df-c67f5c3a-465d-496b-a344-abf1e9f3b91d button.colab-df-convert');\n",
              "      buttonEl.style.display =\n",
              "        google.colab.kernel.accessAllowed ? 'block' : 'none';\n",
              "\n",
              "      async function convertToInteractive(key) {\n",
              "        const element = document.querySelector('#df-c67f5c3a-465d-496b-a344-abf1e9f3b91d');\n",
              "        const dataTable =\n",
              "          await google.colab.kernel.invokeFunction('convertToInteractive',\n",
              "                                                    [key], {});\n",
              "        if (!dataTable) return;\n",
              "\n",
              "        const docLinkHtml = 'Like what you see? Visit the ' +\n",
              "          '<a target=\"_blank\" href=https://colab.research.google.com/notebooks/data_table.ipynb>data table notebook</a>'\n",
              "          + ' to learn more about interactive tables.';\n",
              "        element.innerHTML = '';\n",
              "        dataTable['output_type'] = 'display_data';\n",
              "        await google.colab.output.renderOutput(dataTable, element);\n",
              "        const docLink = document.createElement('div');\n",
              "        docLink.innerHTML = docLinkHtml;\n",
              "        element.appendChild(docLink);\n",
              "      }\n",
              "    </script>\n",
              "  </div>\n",
              "\n",
              "\n",
              "<div id=\"df-5b737ae2-e6bb-4019-99c7-4d5b6f1926c9\">\n",
              "  <button class=\"colab-df-quickchart\" onclick=\"quickchart('df-5b737ae2-e6bb-4019-99c7-4d5b6f1926c9')\"\n",
              "            title=\"Suggest charts\"\n",
              "            style=\"display:none;\">\n",
              "\n",
              "<svg xmlns=\"http://www.w3.org/2000/svg\" height=\"24px\"viewBox=\"0 0 24 24\"\n",
              "     width=\"24px\">\n",
              "    <g>\n",
              "        <path d=\"M19 3H5c-1.1 0-2 .9-2 2v14c0 1.1.9 2 2 2h14c1.1 0 2-.9 2-2V5c0-1.1-.9-2-2-2zM9 17H7v-7h2v7zm4 0h-2V7h2v10zm4 0h-2v-4h2v4z\"/>\n",
              "    </g>\n",
              "</svg>\n",
              "  </button>\n",
              "\n",
              "<style>\n",
              "  .colab-df-quickchart {\n",
              "      --bg-color: #E8F0FE;\n",
              "      --fill-color: #1967D2;\n",
              "      --hover-bg-color: #E2EBFA;\n",
              "      --hover-fill-color: #174EA6;\n",
              "      --disabled-fill-color: #AAA;\n",
              "      --disabled-bg-color: #DDD;\n",
              "  }\n",
              "\n",
              "  [theme=dark] .colab-df-quickchart {\n",
              "      --bg-color: #3B4455;\n",
              "      --fill-color: #D2E3FC;\n",
              "      --hover-bg-color: #434B5C;\n",
              "      --hover-fill-color: #FFFFFF;\n",
              "      --disabled-bg-color: #3B4455;\n",
              "      --disabled-fill-color: #666;\n",
              "  }\n",
              "\n",
              "  .colab-df-quickchart {\n",
              "    background-color: var(--bg-color);\n",
              "    border: none;\n",
              "    border-radius: 50%;\n",
              "    cursor: pointer;\n",
              "    display: none;\n",
              "    fill: var(--fill-color);\n",
              "    height: 32px;\n",
              "    padding: 0;\n",
              "    width: 32px;\n",
              "  }\n",
              "\n",
              "  .colab-df-quickchart:hover {\n",
              "    background-color: var(--hover-bg-color);\n",
              "    box-shadow: 0 1px 2px rgba(60, 64, 67, 0.3), 0 1px 3px 1px rgba(60, 64, 67, 0.15);\n",
              "    fill: var(--button-hover-fill-color);\n",
              "  }\n",
              "\n",
              "  .colab-df-quickchart-complete:disabled,\n",
              "  .colab-df-quickchart-complete:disabled:hover {\n",
              "    background-color: var(--disabled-bg-color);\n",
              "    fill: var(--disabled-fill-color);\n",
              "    box-shadow: none;\n",
              "  }\n",
              "\n",
              "  .colab-df-spinner {\n",
              "    border: 2px solid var(--fill-color);\n",
              "    border-color: transparent;\n",
              "    border-bottom-color: var(--fill-color);\n",
              "    animation:\n",
              "      spin 1s steps(1) infinite;\n",
              "  }\n",
              "\n",
              "  @keyframes spin {\n",
              "    0% {\n",
              "      border-color: transparent;\n",
              "      border-bottom-color: var(--fill-color);\n",
              "      border-left-color: var(--fill-color);\n",
              "    }\n",
              "    20% {\n",
              "      border-color: transparent;\n",
              "      border-left-color: var(--fill-color);\n",
              "      border-top-color: var(--fill-color);\n",
              "    }\n",
              "    30% {\n",
              "      border-color: transparent;\n",
              "      border-left-color: var(--fill-color);\n",
              "      border-top-color: var(--fill-color);\n",
              "      border-right-color: var(--fill-color);\n",
              "    }\n",
              "    40% {\n",
              "      border-color: transparent;\n",
              "      border-right-color: var(--fill-color);\n",
              "      border-top-color: var(--fill-color);\n",
              "    }\n",
              "    60% {\n",
              "      border-color: transparent;\n",
              "      border-right-color: var(--fill-color);\n",
              "    }\n",
              "    80% {\n",
              "      border-color: transparent;\n",
              "      border-right-color: var(--fill-color);\n",
              "      border-bottom-color: var(--fill-color);\n",
              "    }\n",
              "    90% {\n",
              "      border-color: transparent;\n",
              "      border-bottom-color: var(--fill-color);\n",
              "    }\n",
              "  }\n",
              "</style>\n",
              "\n",
              "  <script>\n",
              "    async function quickchart(key) {\n",
              "      const quickchartButtonEl =\n",
              "        document.querySelector('#' + key + ' button');\n",
              "      quickchartButtonEl.disabled = true;  // To prevent multiple clicks.\n",
              "      quickchartButtonEl.classList.add('colab-df-spinner');\n",
              "      try {\n",
              "        const charts = await google.colab.kernel.invokeFunction(\n",
              "            'suggestCharts', [key], {});\n",
              "      } catch (error) {\n",
              "        console.error('Error during call to suggestCharts:', error);\n",
              "      }\n",
              "      quickchartButtonEl.classList.remove('colab-df-spinner');\n",
              "      quickchartButtonEl.classList.add('colab-df-quickchart-complete');\n",
              "    }\n",
              "    (() => {\n",
              "      let quickchartButtonEl =\n",
              "        document.querySelector('#df-5b737ae2-e6bb-4019-99c7-4d5b6f1926c9 button');\n",
              "      quickchartButtonEl.style.display =\n",
              "        google.colab.kernel.accessAllowed ? 'block' : 'none';\n",
              "    })();\n",
              "  </script>\n",
              "</div>\n",
              "\n",
              "  <div id=\"id_310f11fd-0be7-4075-8df9-10283972cb3f\">\n",
              "    <style>\n",
              "      .colab-df-generate {\n",
              "        background-color: #E8F0FE;\n",
              "        border: none;\n",
              "        border-radius: 50%;\n",
              "        cursor: pointer;\n",
              "        display: none;\n",
              "        fill: #1967D2;\n",
              "        height: 32px;\n",
              "        padding: 0 0 0 0;\n",
              "        width: 32px;\n",
              "      }\n",
              "\n",
              "      .colab-df-generate:hover {\n",
              "        background-color: #E2EBFA;\n",
              "        box-shadow: 0px 1px 2px rgba(60, 64, 67, 0.3), 0px 1px 3px 1px rgba(60, 64, 67, 0.15);\n",
              "        fill: #174EA6;\n",
              "      }\n",
              "\n",
              "      [theme=dark] .colab-df-generate {\n",
              "        background-color: #3B4455;\n",
              "        fill: #D2E3FC;\n",
              "      }\n",
              "\n",
              "      [theme=dark] .colab-df-generate:hover {\n",
              "        background-color: #434B5C;\n",
              "        box-shadow: 0px 1px 3px 1px rgba(0, 0, 0, 0.15);\n",
              "        filter: drop-shadow(0px 1px 2px rgba(0, 0, 0, 0.3));\n",
              "        fill: #FFFFFF;\n",
              "      }\n",
              "    </style>\n",
              "    <button class=\"colab-df-generate\" onclick=\"generateWithVariable('cnn_statistics')\"\n",
              "            title=\"Generate code using this dataframe.\"\n",
              "            style=\"display:none;\">\n",
              "\n",
              "  <svg xmlns=\"http://www.w3.org/2000/svg\" height=\"24px\"viewBox=\"0 0 24 24\"\n",
              "       width=\"24px\">\n",
              "    <path d=\"M7,19H8.4L18.45,9,17,7.55,7,17.6ZM5,21V16.75L18.45,3.32a2,2,0,0,1,2.83,0l1.4,1.43a1.91,1.91,0,0,1,.58,1.4,1.91,1.91,0,0,1-.58,1.4L9.25,21ZM18.45,9,17,7.55Zm-12,3A5.31,5.31,0,0,0,4.9,8.1,5.31,5.31,0,0,0,1,6.5,5.31,5.31,0,0,0,4.9,4.9,5.31,5.31,0,0,0,6.5,1,5.31,5.31,0,0,0,8.1,4.9,5.31,5.31,0,0,0,12,6.5,5.46,5.46,0,0,0,6.5,12Z\"/>\n",
              "  </svg>\n",
              "    </button>\n",
              "    <script>\n",
              "      (() => {\n",
              "      const buttonEl =\n",
              "        document.querySelector('#id_310f11fd-0be7-4075-8df9-10283972cb3f button.colab-df-generate');\n",
              "      buttonEl.style.display =\n",
              "        google.colab.kernel.accessAllowed ? 'block' : 'none';\n",
              "\n",
              "      buttonEl.onclick = () => {\n",
              "        google.colab.notebook.generateWithVariable('cnn_statistics');\n",
              "      }\n",
              "      })();\n",
              "    </script>\n",
              "  </div>\n",
              "\n",
              "    </div>\n",
              "  </div>\n"
            ]
          },
          "metadata": {},
          "execution_count": 120
        }
      ]
    },
    {
      "cell_type": "code",
      "source": [
        "PATH = './cifar_cnn-net.pth'\n",
        "torch.save(net.state_dict(), PATH)"
      ],
      "metadata": {
        "id": "Bf_1iOFRGo-l"
      },
      "execution_count": 107,
      "outputs": []
    },
    {
      "cell_type": "code",
      "source": [
        "net = Net()\n",
        "net.load_state_dict(torch.load(PATH))"
      ],
      "metadata": {
        "colab": {
          "base_uri": "https://localhost:8080/"
        },
        "id": "wYHj_vZ3GxVD",
        "outputId": "15e3bda6-499e-471c-fb91-53faecd69270"
      },
      "execution_count": 109,
      "outputs": [
        {
          "output_type": "execute_result",
          "data": {
            "text/plain": [
              "<All keys matched successfully>"
            ]
          },
          "metadata": {},
          "execution_count": 109
        }
      ]
    },
    {
      "cell_type": "code",
      "source": [
        "dataiter = iter(testloader)\n",
        "images, labels = next(dataiter)\n",
        "\n",
        "# print images\n",
        "imshow(torchvision.utils.make_grid(images))\n",
        "print('GroundTruth: ', ' '.join(f'{classes[labels[j]]:5s}' for j in range(4)))\n",
        "_, predicted = torch.max(outputs, 1)\n",
        "\n",
        "print('Predicted: ', ' '.join(f'{classes[predicted[j]]:5s}'\n",
        "                              for j in range(4)))"
      ],
      "metadata": {
        "colab": {
          "base_uri": "https://localhost:8080/",
          "height": 230
        },
        "id": "kvO93z3lHEML",
        "outputId": "680bd436-ae66-441d-98ee-9d3de6f34eea"
      },
      "execution_count": 118,
      "outputs": [
        {
          "output_type": "display_data",
          "data": {
            "text/plain": [
              "<Figure size 640x480 with 1 Axes>"
            ],
            "image/png": "[encoded data removed]"
          },
          "metadata": {}
        },
        {
          "output_type": "stream",
          "name": "stdout",
          "text": [
            "GroundTruth:  cat   ship  ship  plane\n",
            "Predicted:  bird  horse frog  ship \n"
          ]
        }
      ]
    },
    {
      "cell_type": "code",
      "source": [
        "correct = 0\n",
        "total = 0\n",
        "# since we're not training, we don't need to calculate the gradients for our outputs\n",
        "with torch.no_grad():\n",
        "    for data in testloader:\n",
        "        images, labels = data\n",
        "        # calculate outputs by running images through the network\n",
        "        outputs = net(images)\n",
        "        # the class with the highest energy is what we choose as prediction\n",
        "        _, predicted = torch.max(outputs.data, 1)\n",
        "        total += labels.size(0)\n",
        "        correct += (predicted == labels).sum().item()\n",
        "\n",
        "print(f'Accuracy of the network on the 10000 test images: {100 * correct // total} %')"
      ],
      "metadata": {
        "colab": {
          "base_uri": "https://localhost:8080/"
        },
        "id": "0Sxiur9qHwva",
        "outputId": "10120fec-b3ed-423d-9170-af517f7c7aeb"
      },
      "execution_count": 119,
      "outputs": [
        {
          "output_type": "stream",
          "name": "stdout",
          "text": [
            "Accuracy of the network on the 10000 test images: 63 %\n"
          ]
        }
      ]
    },
    {
      "cell_type": "markdown",
      "source": [
        "# ResNet-18"
      ],
      "metadata": {
        "id": "WTwMwHyaIVU8"
      }
    },
    {
      "cell_type": "code",
      "source": [
        "resnet18 = torchvision.models.resnet18(weights='IMAGENET1K_V1')"
      ],
      "metadata": {
        "id": "H4RuGmzvIcrK"
      },
      "execution_count": 25,
      "outputs": []
    },
    {
      "cell_type": "code",
      "source": [
        "# É preciso adequar os transformers para os que são usados na rede resnet18\n",
        "\n",
        "transform = torchvision.models.ResNet18_Weights.IMAGENET1K_V1.transforms\n",
        "\n",
        "trainset.transform = transform()\n",
        "testset.transform = transform()"
      ],
      "metadata": {
        "id": "SZzR93nITH0I"
      },
      "execution_count": 26,
      "outputs": []
    },
    {
      "cell_type": "code",
      "source": [
        "for param in resnet18.parameters():\n",
        "  param.requires_grad = False\n",
        "\n",
        "num_ftrs = resnet18.fc.in_features # 512\n",
        "\n",
        "# Parameters of newly constructed modules have requires_grad=True by default\n",
        "resnet18.fc = nn.Linear(num_ftrs, 10)\n",
        "\n",
        "criterion = nn.CrossEntropyLoss().to(device)\n",
        "\n",
        "# Observe that only parameters of final layer are being optimized as\n",
        "# opposed to before.\n",
        "optimizer = optim.SGD(resnet18.fc.parameters(), lr=0.001, momentum=0.9)"
      ],
      "metadata": {
        "id": "Hrq94YkbXMss"
      },
      "execution_count": 27,
      "outputs": []
    },
    {
      "cell_type": "code",
      "source": [
        "EPOCHS = 1\n",
        "\n",
        "epoch_losses = []\n",
        "resnet18 = resnet18.to(device)\n",
        "for epoch in range(EPOCHS):  # loop over the dataset multiple times\n",
        "\n",
        "  running_loss = 0.0\n",
        "  epoch_loss = 0.0\n",
        "\n",
        "  for i, data in enumerate(trainloader, 0):\n",
        "    # get the inputs; data is a list of [inputs, labels]\n",
        "    inputs, labels = data\n",
        "    inputs = inputs.to(device)\n",
        "    labels = labels.to(device)\n",
        "\n",
        "    # zero the parameter gradients\n",
        "    optimizer.zero_grad()\n",
        "\n",
        "    # forward + backward + optimize\n",
        "    outputs = resnet18(inputs)\n",
        "    loss = criterion(outputs, labels)\n",
        "    loss.backward()\n",
        "    optimizer.step()\n",
        "\n",
        "    # print statistics\n",
        "    running_loss += loss.item()\n",
        "    epoch_loss += outputs.shape[0] * loss.item()\n",
        "    if i % 2000 == 1999:    # print every 2000 mini-batches\n",
        "      print(f'[{epoch + 1}, {i + 1:5d}] loss: {running_loss / 2000:.3f}')\n",
        "      running_loss = 0.0\n",
        "\n",
        "  epoch_loss_mean = epoch_loss / len(trainset)\n",
        "  print(f\"[epoch {epoch + 1}] loss: {epoch_loss_mean:.3f}\")\n",
        "  epoch_losses.append(epoch_loss_mean)\n",
        "\n",
        "print('Finished Training')"
      ],
      "metadata": {
        "colab": {
          "base_uri": "https://localhost:8080/"
        },
        "id": "ie8eom_4Ni5s",
        "outputId": "ae5e05f4-08b7-4f04-d361-a153d0802ef4"
      },
      "execution_count": 28,
      "outputs": [
        {
          "output_type": "stream",
          "name": "stdout",
          "text": [
            "[1,  2000] loss: 1.482\n",
            "[1,  4000] loss: 1.285\n",
            "[1,  6000] loss: 1.237\n",
            "[1,  8000] loss: 1.231\n",
            "[1, 10000] loss: 1.228\n",
            "[1, 12000] loss: 1.231\n",
            "[epoch 1] loss: 1.282\n",
            "Finished Training\n"
          ]
        }
      ]
    },
    {
      "cell_type": "code",
      "source": [
        "dataiter = iter(testloader)\n",
        "images, labels = next(dataiter)\n",
        "\n",
        "# print images\n",
        "imshow(torchvision.utils.make_grid(images))\n",
        "print('GroundTruth: ', ' '.join(f'{classes[labels[j]]:5s}' for j in range(4)))\n",
        "_, predicted = torch.max(outputs, 1)\n",
        "\n",
        "print('Predicted: ', ' '.join(f'{classes[predicted[j]]:5s}'\n",
        "                              for j in range(4)))"
      ],
      "metadata": {
        "colab": {
          "base_uri": "https://localhost:8080/",
          "height": 230
        },
        "id": "bNR1w2zmN8l-",
        "outputId": "a11ee464-3639-412c-9149-3a1199fb5f2f"
      },
      "execution_count": 16,
      "outputs": [
        {
          "output_type": "display_data",
          "data": {
            "text/plain": [
              "<Figure size 640x480 with 1 Axes>"
            ],
            "image/png": "[encoded data removed]"
          },
          "metadata": {}
        },
        {
          "output_type": "stream",
          "name": "stdout",
          "text": [
            "GroundTruth:  cat   ship  ship  plane\n",
            "Predicted:  bird  car   dog   cat  \n"
          ]
        }
      ]
    },
    {
      "cell_type": "code",
      "source": [
        "correct = 0\n",
        "total = 0\n",
        "# since we're not training, we don't need to calculate the gradients for our outputs\n",
        "with torch.no_grad():\n",
        "    for data in testloader:\n",
        "        images, labels = data\n",
        "\n",
        "        labels = labels.to(device)\n",
        "        images = images.to(device)\n",
        "\n",
        "        # calculate outputs by running images through the network\n",
        "        outputs = resnet18(images)\n",
        "        # the class with the highest energy is what we choose as prediction\n",
        "        _, predicted = torch.max(outputs.data, 1)\n",
        "        total += labels.size(0)\n",
        "        correct += (predicted == labels).sum().item()\n",
        "\n",
        "print(f'Accuracy of the network on the 10000 test images: {100 * correct // total} %')"
      ],
      "metadata": {
        "colab": {
          "base_uri": "https://localhost:8080/"
        },
        "id": "k5t9dLMyN-tU",
        "outputId": "545d61c2-4121-4f01-99bf-b248583e6290"
      },
      "execution_count": 21,
      "outputs": [
        {
          "output_type": "stream",
          "name": "stdout",
          "text": [
            "Accuracy of the network on the 10000 test images: 24 %\n"
          ]
        }
      ]
    }
  ]
}
